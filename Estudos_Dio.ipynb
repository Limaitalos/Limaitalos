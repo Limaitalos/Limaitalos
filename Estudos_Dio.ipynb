{
  "nbformat": 4,
  "nbformat_minor": 0,
  "metadata": {
    "colab": {
      "provenance": [],
      "authorship_tag": "ABX9TyN8L1+CAzCHQl+UboJbbbBy",
      "include_colab_link": true
    },
    "kernelspec": {
      "name": "python3",
      "display_name": "Python 3"
    },
    "language_info": {
      "name": "python"
    }
  },
  "cells": [
    {
      "cell_type": "markdown",
      "metadata": {
        "id": "view-in-github",
        "colab_type": "text"
      },
      "source": [
        "<a href=\"https://colab.research.google.com/github/Limaitalos/Limaitalos/blob/main/Estudos_Dio.ipynb\" target=\"_parent\"><img src=\"https://colab.research.google.com/assets/colab-badge.svg\" alt=\"Open In Colab\"/></a>"
      ]
    },
    {
      "cell_type": "code",
      "source": [
        "menu = \"\"\"\n",
        "  [d] Depositar\n",
        "  [s] Sacar\n",
        "  [e] Extrato\n",
        "  [q] Sair\n",
        "\"\"\"\n",
        "\n",
        "saldo = 0\n",
        "limite = 500\n",
        "extrato = \"\"\n",
        "numero_saques = 0\n",
        "LIMITE_SAQUES = 3\n",
        "\n",
        "while True:\n",
        "    opcao = input(menu)\n",
        "\n",
        "    if opcao == \"d\":\n",
        "        valor = float(input(\"Informe o valor do depósito: \"))\n",
        "        if valor > 0:\n",
        "            saldo += valor\n",
        "            extrato += f\"Depósito: R$ {valor:.2f}\\n\"\n",
        "            print(f\"Depósito de R$ {valor:.2f} realizado com sucesso!\")\n",
        "        else:\n",
        "            print(\"Valor inválido para depósito.\")\n",
        "\n",
        "    elif opcao == \"s\":\n",
        "        valor = float(input(\"Informe o valor do saque: \"))\n",
        "\n",
        "        # Verifica se o valor é positivo, se há saldo suficiente e se o número de saques permitidos não foi atingido\n",
        "        if valor > 0:\n",
        "            if valor <= saldo and numero_saques < LIMITE_SAQUES and valor <= limite:\n",
        "                saldo -= valor\n",
        "                extrato += f\"Saque: R$ {valor:.2f}\\n\"\n",
        "                numero_saques += 1\n",
        "                print(f\"Saque de R$ {valor:.2f} realizado com sucesso!\")\n",
        "            elif valor > saldo:\n",
        "                print(\"Você não tem saldo suficiente para realizar o saque.\")\n",
        "            elif numero_saques >= LIMITE_SAQUES:\n",
        "                print(\"Número máximo de saques diários atingido.\")\n",
        "            elif valor > limite:\n",
        "                print(f\"O valor do saque excede o limite permitido de R$ {limite:.2f}.\")\n",
        "        else:\n",
        "            print(\"Valor inválido para saque.\")\n",
        "\n",
        "    elif opcao == \"e\":\n",
        "        print(\"\\n===== EXTRATO =====\")\n",
        "        print(\"Não foram realizadas movimentações.\" if not extrato else extrato)\n",
        "        print(f\"\\nSaldo atual: R$ {saldo:.2f}\")\n",
        "        print(\"===================\")\n",
        "\n",
        "    elif opcao == \"q\":\n",
        "        break\n",
        "\n",
        "    else:\n",
        "        print(\"Operação inválida, por favor selecione novamente a operação desejada.\")\n"
      ],
      "metadata": {
        "colab": {
          "base_uri": "https://localhost:8080/"
        },
        "id": "U6QXHK39g_Hi",
        "outputId": "e67aa90d-35f2-4525-ef7b-96e03d2cd3a2"
      },
      "execution_count": 25,
      "outputs": [
        {
          "name": "stdout",
          "output_type": "stream",
          "text": [
            "\n",
            "  [d] Depositar\n",
            "  [s] Sacar\n",
            "  [e] Extrato\n",
            "  [q] Sair\n",
            "d\n",
            "Informe o valor do depósito: 50\n",
            "Depósito de R$ 50.00 realizado com sucesso!\n",
            "\n",
            "  [d] Depositar\n",
            "  [s] Sacar\n",
            "  [e] Extrato\n",
            "  [q] Sair\n",
            "s\n",
            "Informe o valor do saque: -100\n",
            "Valor inválido para saque.\n",
            "\n",
            "  [d] Depositar\n",
            "  [s] Sacar\n",
            "  [e] Extrato\n",
            "  [q] Sair\n",
            "q\n"
          ]
        }
      ]
    }
  ]
}